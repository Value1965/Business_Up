{
  "nbformat": 4,
  "nbformat_minor": 0,
  "metadata": {
    "colab": {
      "provenance": [],
      "collapsed_sections": [],
      "include_colab_link": true
    },
    "kernelspec": {
      "name": "python3",
      "display_name": "Python 3"
    },
    "language_info": {
      "name": "python"
    }
  },
  "cells": [
    {
      "cell_type": "markdown",
      "metadata": {
        "id": "view-in-github",
        "colab_type": "text"
      },
      "source": [
        "<a href=\"https://colab.research.google.com/github/Value1965/Business_Up/blob/main/%D0%A1%D0%B8%D0%BC%D1%83%D0%BB%D1%8F%D1%86%D0%B8%D1%8F.ipynb\" target=\"_parent\"><img src=\"https://colab.research.google.com/assets/colab-badge.svg\" alt=\"Open In Colab\"/></a>"
      ]
    },
    {
      "cell_type": "markdown",
      "source": [
        "##Загрузим нужные библиотеки"
      ],
      "metadata": {
        "id": "6Th9Ous-uJ8S"
      }
    },
    {
      "cell_type": "code",
      "execution_count": null,
      "metadata": {
        "id": "PtrvB6hdt_Dx"
      },
      "outputs": [],
      "source": [
        "import pandas as pd\n",
        "import seaborn as sns\n",
        "import matplotlib.pyplot as plt\n",
        "from sklearn.model_selection import train_test_split\n",
        "from sklearn.ensemble import RandomForestClassifier\n",
        "from sklearn import tree\n",
        "import numpy as np\n",
        "from sklearn.metrics import recall_score, precision_score\n",
        "\n",
        "%matplotlib inline"
      ]
    },
    {
      "cell_type": "markdown",
      "source": [
        "## Подключим Google Disk"
      ],
      "metadata": {
        "id": "XbWqtU-AvqNv"
      }
    },
    {
      "cell_type": "code",
      "source": [
        "from google.colab import drive\n",
        "drive.mount('/content/drive')"
      ],
      "metadata": {
        "id": "-MuXdzoLvuml"
      },
      "execution_count": null,
      "outputs": []
    },
    {
      "cell_type": "markdown",
      "source": [
        "## Загружаем датасеты"
      ],
      "metadata": {
        "id": "VgWr_yoUv6Hj"
      }
    },
    {
      "cell_type": "code",
      "source": [
        "df_train = pd.read_csv(\"/content/drive/MyDrive/hacks_ai_2022/Дубна/train_dataset_train.csv\")\n",
        "df_user = pd.read_csv(\"/content/drive/MyDrive/hacks_ai_2022/Дубна/user_decision.csv\")\n",
        "df_user_data = pd.read_csv(\"/content/drive/MyDrive/hacks_ai_2022/Дубна/user.csv\")\n",
        "df_team_point = pd.read_csv(\"/content/drive/MyDrive/hacks_ai_2022/Дубна/team_point.csv\")"
      ],
      "metadata": {
        "id": "U-37dB2NvzvM"
      },
      "execution_count": null,
      "outputs": []
    }
  ]
}